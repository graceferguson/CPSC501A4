{
  "nbformat": 4,
  "nbformat_minor": 0,
  "metadata": {
    "colab": {
      "name": "MNISTModel.ipynb",
      "provenance": [],
      "collapsed_sections": [],
      "include_colab_link": true
    },
    "kernelspec": {
      "name": "python3",
      "display_name": "Python 3"
    }
  },
  "cells": [
    {
      "cell_type": "markdown",
      "metadata": {
        "id": "view-in-github",
        "colab_type": "text"
      },
      "source": [
        "<a href=\"https://colab.research.google.com/github/graceferguson/CPSC501A4/blob/master/MNISTModel.ipynb\" target=\"_parent\"><img src=\"https://colab.research.google.com/assets/colab-badge.svg\" alt=\"Open In Colab\"/></a>"
      ]
    },
    {
      "cell_type": "code",
      "metadata": {
        "id": "ITCcIDcJx02Q",
        "colab_type": "code",
        "outputId": "ec07f1d3-afd1-43f2-ce0f-1fa3ea25c33f",
        "colab": {
          "base_uri": "https://localhost:8080/",
          "height": 573
        }
      },
      "source": [
        "import tensorflow as tf\n",
        "\n",
        "print(\"--Get data--\")\n",
        "mnist = tf.keras.datasets.mnist\n",
        "(x_train, y_train), (x_test, y_test) = mnist.load_data()\n",
        "\n",
        "print(\"--Process data--\")\n",
        "x_train, x_test = x_train / 255.0, x_test / 255.0\n",
        "\n",
        "print(\"--Make model--\")\n",
        "model = tf.keras.models.Sequential([\n",
        "  tf.keras.layers.Flatten(input_shape=(28, 28)),\n",
        "  tf.keras.layers.Dense(1000, activation='relu'),\n",
        "  tf.keras.layers.Dropout(0.05),\n",
        "  tf.keras.layers.Dense(1000, activation='relu'),\n",
        "  tf.keras.layers.Dropout(0.05),\n",
        "  tf.keras.layers.Dense(10, activation='softmax')\n",
        "\n",
        "])\n",
        "model.compile(optimizer='adam', loss='sparse_categorical_crossentropy', metrics=['accuracy'])\n",
        "\n",
        "print(\"--Fit model--\")\n",
        "model.fit(x_train, y_train, epochs=10, verbose=2)\n",
        "\n",
        "print(\"--Evaluate model--\")\n",
        "model_loss, model_acc = model.evaluate(x_test,  y_test, verbose=2)\n",
        "print(f\"Model Loss:    {model_loss:.2f}\")\n",
        "print(f\"Model Accuray: {model_acc*100:.1f}%\")\n",
        "\n",
        "model_loss, model_acc = model.evaluate(x_train, y_train, verbose=2)\n",
        "print(f\"Model Loss:     {model_loss:.2f}\")\n",
        "print(f\"Model Accuracy: {model_acc*100:.1f}%\")"
      ],
      "execution_count": 4,
      "outputs": [
        {
          "output_type": "stream",
          "text": [
            "--Get data--\n",
            "--Process data--\n",
            "--Make model--\n",
            "--Fit model--\n",
            "Train on 60000 samples\n",
            "Epoch 1/10\n",
            "60000/60000 - 40s - loss: 0.1871 - acc: 0.9431\n",
            "Epoch 2/10\n",
            "60000/60000 - 40s - loss: 0.0886 - acc: 0.9722\n",
            "Epoch 3/10\n",
            "60000/60000 - 40s - loss: 0.0635 - acc: 0.9810\n",
            "Epoch 4/10\n",
            "60000/60000 - 40s - loss: 0.0502 - acc: 0.9843\n",
            "Epoch 5/10\n",
            "60000/60000 - 40s - loss: 0.0420 - acc: 0.9869\n",
            "Epoch 6/10\n",
            "60000/60000 - 40s - loss: 0.0374 - acc: 0.9882\n",
            "Epoch 7/10\n",
            "60000/60000 - 40s - loss: 0.0316 - acc: 0.9904\n",
            "Epoch 8/10\n",
            "60000/60000 - 39s - loss: 0.0289 - acc: 0.9917\n",
            "Epoch 9/10\n",
            "60000/60000 - 40s - loss: 0.0264 - acc: 0.9920\n",
            "Epoch 10/10\n",
            "60000/60000 - 40s - loss: 0.0272 - acc: 0.9921\n",
            "--Evaluate model--\n",
            "10000/10000 - 2s - loss: 0.0927 - acc: 0.9817\n",
            "Model Loss:    0.09\n",
            "Model Accuray: 98.2%\n",
            "60000/60000 - 9s - loss: 0.0122 - acc: 0.9964\n",
            "Model Loss:     0.01\n",
            "Model Accuracy: 99.6%\n"
          ],
          "name": "stdout"
        }
      ]
    },
    {
      "cell_type": "code",
      "metadata": {
        "id": "uqKuNbSJEaWc",
        "colab_type": "code",
        "colab": {}
      },
      "source": [
        "#Save Model to MNIST.h5\n",
        "model.save('MNIST.h5')"
      ],
      "execution_count": 0,
      "outputs": []
    },
    {
      "cell_type": "code",
      "metadata": {
        "id": "0Vc4ePZwERJW",
        "colab_type": "code",
        "colab": {}
      },
      "source": [
        "from google.colab import files\n",
        "files.download('MNIST.h5')"
      ],
      "execution_count": 0,
      "outputs": []
    }
  ]
}