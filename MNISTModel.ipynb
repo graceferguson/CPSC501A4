{
  "nbformat": 4,
  "nbformat_minor": 0,
  "metadata": {
    "colab": {
      "name": "MNISTModel.ipynb",
      "provenance": [],
      "collapsed_sections": [],
      "include_colab_link": true
    },
    "kernelspec": {
      "name": "python3",
      "display_name": "Python 3"
    }
  },
  "cells": [
    {
      "cell_type": "markdown",
      "metadata": {
        "id": "view-in-github",
        "colab_type": "text"
      },
      "source": [
        "<a href=\"https://colab.research.google.com/github/graceferguson/CPSC501A4/blob/master/MNISTModel.ipynb\" target=\"_parent\"><img src=\"https://colab.research.google.com/assets/colab-badge.svg\" alt=\"Open In Colab\"/></a>"
      ]
    },
    {
      "cell_type": "code",
      "metadata": {
        "id": "ITCcIDcJx02Q",
        "colab_type": "code",
        "outputId": "bea87018-2921-4dcd-f93b-676856272eea",
        "colab": {
          "base_uri": "https://localhost:8080/",
          "height": 573
        }
      },
      "source": [
        "import tensorflow as tf\n",
        "\n",
        "print(\"--Get data--\")\n",
        "mnist = tf.keras.datasets.mnist\n",
        "(x_train, y_train), (x_test, y_test) = mnist.load_data()\n",
        "\n",
        "print(\"--Process data--\")\n",
        "x_train, x_test = x_train / 255.0, x_test / 255.0\n",
        "\n",
        "print(\"--Make model--\")\n",
        "model = tf.keras.models.Sequential([\n",
        "  tf.keras.layers.Flatten(input_shape=(28, 28)),\n",
        "  tf.keras.layers.Dense(1000, activation='relu'),\n",
        "  tf.keras.layers.Dropout(0.2),\n",
        "  tf.keras.layers.Dense(1000, activation='relu'),\n",
        "  tf.keras.layers.Dropout(0.2),\n",
        "  tf.keras.layers.Dense(10, activation='softmax')\n",
        "\n",
        "])\n",
        "model.compile(optimizer='sgd', loss='sparse_categorical_crossentropy', metrics=['accuracy'])\n",
        "\n",
        "print(\"--Fit model--\")\n",
        "model.fit(x_train, y_train, epochs=10, verbose=2)\n",
        "\n",
        "print(\"--Evaluate model--\")\n",
        "model_loss, model_acc = model.evaluate(x_test,  y_test, verbose=2)\n",
        "print(f\"Model Loss:    {model_loss:.2f}\")\n",
        "print(f\"Model Accuray: {model_acc*100:.1f}%\")\n",
        "\n",
        "model_loss, model_acc = model.evaluate(x_train, y_train, verbose=2)\n",
        "print(f\"Model Loss:     {model_loss:.2f}\")\n",
        "print(f\"Model Accuracy: {model_acc*100:.1f}%\")"
      ],
      "execution_count": 0,
      "outputs": [
        {
          "output_type": "stream",
          "text": [
            "--Get data--\n",
            "--Process data--\n",
            "--Make model--\n",
            "--Fit model--\n",
            "Train on 60000 samples\n",
            "Epoch 1/10\n",
            "60000/60000 - 27s - loss: 0.6004 - acc: 0.8403\n",
            "Epoch 2/10\n",
            "60000/60000 - 27s - loss: 0.2990 - acc: 0.9136\n",
            "Epoch 3/10\n",
            "60000/60000 - 27s - loss: 0.2394 - acc: 0.9306\n",
            "Epoch 4/10\n",
            "60000/60000 - 26s - loss: 0.2031 - acc: 0.9423\n",
            "Epoch 5/10\n",
            "60000/60000 - 27s - loss: 0.1755 - acc: 0.9489\n",
            "Epoch 6/10\n",
            "60000/60000 - 26s - loss: 0.1555 - acc: 0.9547\n",
            "Epoch 7/10\n",
            "60000/60000 - 27s - loss: 0.1370 - acc: 0.9603\n",
            "Epoch 8/10\n",
            "60000/60000 - 26s - loss: 0.1252 - acc: 0.9639\n",
            "Epoch 9/10\n",
            "60000/60000 - 27s - loss: 0.1146 - acc: 0.9670\n",
            "Epoch 10/10\n",
            "60000/60000 - 26s - loss: 0.1056 - acc: 0.9688\n",
            "--Evaluate model--\n",
            "10000/10000 - 1s - loss: 0.0942 - acc: 0.9701\n",
            "Model Loss:    0.09\n",
            "Model Accuray: 97.0%\n",
            "60000/60000 - 8s - loss: 0.0817 - acc: 0.9768\n",
            "Model Loss:     0.08\n",
            "Model Accuracy: 97.7%\n"
          ],
          "name": "stdout"
        }
      ]
    },
    {
      "cell_type": "code",
      "metadata": {
        "id": "uqKuNbSJEaWc",
        "colab_type": "code",
        "colab": {}
      },
      "source": [
        "#Save Model to MNIST.h5\n",
        "model.save('MNIST.h5')"
      ],
      "execution_count": 0,
      "outputs": []
    },
    {
      "cell_type": "code",
      "metadata": {
        "id": "0Vc4ePZwERJW",
        "colab_type": "code",
        "colab": {}
      },
      "source": [
        "from google.colab import files\n",
        "files.download('MNIST.h5')"
      ],
      "execution_count": 0,
      "outputs": []
    }
  ]
}